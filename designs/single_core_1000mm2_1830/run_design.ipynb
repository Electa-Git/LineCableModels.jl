{
 "cells": [
  {
   "cell_type": "code",
   "execution_count": null,
   "metadata": {},
   "outputs": [
    {
     "name": "stderr",
     "output_type": "stream",
     "text": [
      "\u001b[32m\u001b[1m  Activating\u001b[22m\u001b[39m project at `~/Documents/KUL/LineCableToolbox/designs/single_core_1000mm2_1830`\n",
      "\u001b[32m\u001b[1m   Resolving\u001b[22m\u001b[39m package versions...\n",
      "\u001b[32m\u001b[1m  No Changes\u001b[22m\u001b[39m to `~/Documents/KUL/LineCableToolbox/designs/single_core_1000mm2_1830/Project.toml`\n",
      "\u001b[32m\u001b[1m  No Changes\u001b[22m\u001b[39m to `~/Documents/KUL/LineCableToolbox/designs/single_core_1000mm2_1830/Manifest.toml`\n",
      "\u001b[32m\u001b[1m   Resolving\u001b[22m\u001b[39m package versions...\n",
      "\u001b[32m\u001b[1m  No Changes\u001b[22m\u001b[39m to `~/Documents/KUL/LineCableToolbox/designs/single_core_1000mm2_1830/Project.toml`\n",
      "\u001b[32m\u001b[1m  No Changes\u001b[22m\u001b[39m to `~/Documents/KUL/LineCableToolbox/designs/single_core_1000mm2_1830/Manifest.toml`\n",
      "\u001b[32m\u001b[1m   Resolving\u001b[22m\u001b[39m package versions...\n",
      "\u001b[32m\u001b[1m  No Changes\u001b[22m\u001b[39m to `~/Documents/KUL/LineCableToolbox/designs/single_core_1000mm2_1830/Project.toml`\n",
      "\u001b[32m\u001b[1m  No Changes\u001b[22m\u001b[39m to `~/Documents/KUL/LineCableToolbox/designs/single_core_1000mm2_1830/Manifest.toml`\n",
      "\u001b[32m\u001b[1m   Resolving\u001b[22m\u001b[39m package versions...\n",
      "\u001b[32m\u001b[1m   Installed\u001b[22m\u001b[39m LogExpFunctions ─ v0.3.29\n",
      "\u001b[32m\u001b[1m   Installed\u001b[22m\u001b[39m OpenSpecFun_jll ─ v0.5.6+0\n",
      "\u001b[32m\u001b[1m    Updating\u001b[22m\u001b[39m `~/Documents/KUL/LineCableToolbox/designs/single_core_1000mm2_1830/Project.toml`\n",
      "  \u001b[90m[276daf66] \u001b[39m\u001b[92m+ SpecialFunctions v2.5.0\u001b[39m\n",
      "\u001b[32m\u001b[1m    Updating\u001b[22m\u001b[39m `~/Documents/KUL/LineCableToolbox/designs/single_core_1000mm2_1830/Manifest.toml`\n",
      "  \u001b[90m[ffbed154] \u001b[39m\u001b[92m+ DocStringExtensions v0.9.3\u001b[39m\n",
      "  \u001b[90m[92d709cd] \u001b[39m\u001b[92m+ IrrationalConstants v0.2.2\u001b[39m\n",
      "  \u001b[90m[692b3bcd] \u001b[39m\u001b[92m+ JLLWrappers v1.7.0\u001b[39m\n",
      "  \u001b[90m[2ab3a3ac] \u001b[39m\u001b[92m+ LogExpFunctions v0.3.29\u001b[39m\n",
      "  \u001b[90m[276daf66] \u001b[39m\u001b[92m+ SpecialFunctions v2.5.0\u001b[39m\n",
      "  \u001b[90m[efe28fd5] \u001b[39m\u001b[92m+ OpenSpecFun_jll v0.5.6+0\u001b[39m\n",
      "  \u001b[90m[05823500] \u001b[39m\u001b[92m+ OpenLibm_jll v0.8.1+2\u001b[39m\n",
      "\u001b[92m\u001b[1mPrecompiling\u001b[22m\u001b[39m project...\n",
      "    903.8 ms\u001b[32m  ✓ \u001b[39m\u001b[90mLogExpFunctions\u001b[39m\n",
      "    501.6 ms\u001b[32m  ✓ \u001b[39m\u001b[90mOpenSpecFun_jll\u001b[39m\n",
      "   1724.5 ms\u001b[32m  ✓ \u001b[39mSpecialFunctions\n",
      "    464.9 ms\u001b[32m  ✓ \u001b[39mMeasurements → MeasurementsSpecialFunctionsExt\n",
      "  4 dependencies successfully precompiled in 3 seconds. 63 already precompiled.\n"
     ]
    }
   ],
   "source": [
    "using Pkg\n",
    "Pkg.activate(\".\")\n",
    "\n",
    "Pkg.add(\"Measurements\")\n",
    "Pkg.add(\"CSV\")\n",
    "Pkg.add(\"DataFrames\")\n",
    "Pkg.add(\"SpecialFunctions\")\n",
    "Pkg.add(\"Colors\")\n",
    "Pkg.add(\"ColorSchemes\")\n",
    "Pkg.add(\"Plots\")\n",
    "Pkg.add(\"Statistics\")\n",
    "Pkg.add(\"LinearAlgebra\")\n"
   ]
  },
  {
   "cell_type": "code",
   "execution_count": 1,
   "metadata": {},
   "outputs": [],
   "source": [
    "# Include modules and additional functions\n",
    "include(\"../../src/LineCableToolbox.jl\")\n",
    "using .LineCableToolbox"
   ]
  },
  {
   "cell_type": "code",
   "execution_count": 3,
   "metadata": {},
   "outputs": [
    {
     "name": "stdout",
     "output_type": "stream",
     "text": [
      "No materials.csv found. Initializing default materials database...\n"
     ]
    },
    {
     "data": {
      "text/html": [
       "<div><div style = \"float: left;\"><span>8×6 DataFrame</span></div><div style = \"clear: both;\"></div></div><div class = \"data-frame\" style = \"overflow-x: scroll;\"><table class = \"data-frame\" style = \"margin-bottom: 6px;\"><thead><tr class = \"header\"><th class = \"rowNumber\" style = \"font-weight: bold; text-align: right;\">Row</th><th style = \"text-align: left;\">name</th><th style = \"text-align: left;\">rho</th><th style = \"text-align: left;\">eps_r</th><th style = \"text-align: left;\">mu_r</th><th style = \"text-align: left;\">T0</th><th style = \"text-align: left;\">alpha</th></tr><tr class = \"subheader headerLastRow\"><th class = \"rowNumber\" style = \"font-weight: bold; text-align: right;\"></th><th title = \"String\" style = \"text-align: left;\">String</th><th title = \"Float64\" style = \"text-align: left;\">Float64</th><th title = \"Float64\" style = \"text-align: left;\">Float64</th><th title = \"Float64\" style = \"text-align: left;\">Float64</th><th title = \"Float64\" style = \"text-align: left;\">Float64</th><th title = \"Float64\" style = \"text-align: left;\">Float64</th></tr></thead><tbody><tr><td class = \"rowNumber\" style = \"font-weight: bold; text-align: right;\">1</td><td style = \"text-align: left;\">polyacrilate</td><td style = \"text-align: right;\">5300.0</td><td style = \"text-align: right;\">32.3</td><td style = \"text-align: right;\">1.0</td><td style = \"text-align: right;\">20.0</td><td style = \"text-align: right;\">0.0</td></tr><tr><td class = \"rowNumber\" style = \"font-weight: bold; text-align: right;\">2</td><td style = \"text-align: left;\">semicon1</td><td style = \"text-align: right;\">1000.0</td><td style = \"text-align: right;\">1000.0</td><td style = \"text-align: right;\">1.0</td><td style = \"text-align: right;\">20.0</td><td style = \"text-align: right;\">0.0</td></tr><tr><td class = \"rowNumber\" style = \"font-weight: bold; text-align: right;\">3</td><td style = \"text-align: left;\">copper</td><td style = \"text-align: right;\">1.7241e-8</td><td style = \"text-align: right;\">1.0</td><td style = \"text-align: right;\">0.999994</td><td style = \"text-align: right;\">20.0</td><td style = \"text-align: right;\">0.00393</td></tr><tr><td class = \"rowNumber\" style = \"font-weight: bold; text-align: right;\">4</td><td style = \"text-align: left;\">xlpe</td><td style = \"text-align: right;\">1.97e14</td><td style = \"text-align: right;\">2.3</td><td style = \"text-align: right;\">1.0</td><td style = \"text-align: right;\">20.0</td><td style = \"text-align: right;\">0.0</td></tr><tr><td class = \"rowNumber\" style = \"font-weight: bold; text-align: right;\">5</td><td style = \"text-align: left;\">pec</td><td style = \"text-align: right;\">2.22045e-16</td><td style = \"text-align: right;\">1.0</td><td style = \"text-align: right;\">1.0</td><td style = \"text-align: right;\">20.0</td><td style = \"text-align: right;\">0.0</td></tr><tr><td class = \"rowNumber\" style = \"font-weight: bold; text-align: right;\">6</td><td style = \"text-align: left;\">air</td><td style = \"text-align: right;\">Inf</td><td style = \"text-align: right;\">1.0</td><td style = \"text-align: right;\">1.0</td><td style = \"text-align: right;\">20.0</td><td style = \"text-align: right;\">0.0</td></tr><tr><td class = \"rowNumber\" style = \"font-weight: bold; text-align: right;\">7</td><td style = \"text-align: left;\">semicon2</td><td style = \"text-align: right;\">500.0</td><td style = \"text-align: right;\">1000.0</td><td style = \"text-align: right;\">1.0</td><td style = \"text-align: right;\">20.0</td><td style = \"text-align: right;\">0.0</td></tr><tr><td class = \"rowNumber\" style = \"font-weight: bold; text-align: right;\">8</td><td style = \"text-align: left;\">aluminum</td><td style = \"text-align: right;\">2.8264e-8</td><td style = \"text-align: right;\">1.0</td><td style = \"text-align: right;\">1.00002</td><td style = \"text-align: right;\">20.0</td><td style = \"text-align: right;\">0.00429</td></tr></tbody></table></div>"
      ],
      "text/latex": [
       "\\begin{tabular}{r|cccccc}\n",
       "\t& name & rho & eps\\_r & mu\\_r & T0 & alpha\\\\\n",
       "\t\\hline\n",
       "\t& String & Float64 & Float64 & Float64 & Float64 & Float64\\\\\n",
       "\t\\hline\n",
       "\t1 & polyacrilate & 5300.0 & 32.3 & 1.0 & 20.0 & 0.0 \\\\\n",
       "\t2 & semicon1 & 1000.0 & 1000.0 & 1.0 & 20.0 & 0.0 \\\\\n",
       "\t3 & copper & 1.7241e-8 & 1.0 & 0.999994 & 20.0 & 0.00393 \\\\\n",
       "\t4 & xlpe & 1.97e14 & 2.3 & 1.0 & 20.0 & 0.0 \\\\\n",
       "\t5 & pec & 2.22045e-16 & 1.0 & 1.0 & 20.0 & 0.0 \\\\\n",
       "\t6 & air & Inf & 1.0 & 1.0 & 20.0 & 0.0 \\\\\n",
       "\t7 & semicon2 & 500.0 & 1000.0 & 1.0 & 20.0 & 0.0 \\\\\n",
       "\t8 & aluminum & 2.8264e-8 & 1.0 & 1.00002 & 20.0 & 0.00429 \\\\\n",
       "\\end{tabular}\n"
      ],
      "text/plain": [
       "\u001b[1m8×6 DataFrame\u001b[0m\n",
       "\u001b[1m Row \u001b[0m│\u001b[1m name         \u001b[0m\u001b[1m rho            \u001b[0m\u001b[1m eps_r   \u001b[0m\u001b[1m mu_r     \u001b[0m\u001b[1m T0      \u001b[0m\u001b[1m alpha   \u001b[0m\n",
       "     │\u001b[90m String       \u001b[0m\u001b[90m Float64        \u001b[0m\u001b[90m Float64 \u001b[0m\u001b[90m Float64  \u001b[0m\u001b[90m Float64 \u001b[0m\u001b[90m Float64 \u001b[0m\n",
       "─────┼───────────────────────────────────────────────────────────────────\n",
       "   1 │ polyacrilate  5300.0             32.3  1.0          20.0  0.0\n",
       "   2 │ semicon1      1000.0           1000.0  1.0          20.0  0.0\n",
       "   3 │ copper           1.7241e-8        1.0  0.999994     20.0  0.00393\n",
       "   4 │ xlpe             1.97e14          2.3  1.0          20.0  0.0\n",
       "   5 │ pec              2.22045e-16      1.0  1.0          20.0  0.0\n",
       "   6 │ air            Inf                1.0  1.0          20.0  0.0\n",
       "   7 │ semicon2       500.0           1000.0  1.0          20.0  0.0\n",
       "   8 │ aluminum         2.8264e-8        1.0  1.00002      20.0  0.00429"
      ]
     },
     "metadata": {},
     "output_type": "display_data"
    }
   ],
   "source": [
    "materials_db = init_materials_db()\n",
    "display_materials_db(materials_db)\n"
   ]
  }
 ],
 "metadata": {
  "kernelspec": {
   "display_name": "Julia 1.11.1",
   "language": "julia",
   "name": "julia-1.11"
  },
  "language_info": {
   "file_extension": ".jl",
   "mimetype": "application/julia",
   "name": "julia",
   "version": "1.11.1"
  }
 },
 "nbformat": 4,
 "nbformat_minor": 2
}
