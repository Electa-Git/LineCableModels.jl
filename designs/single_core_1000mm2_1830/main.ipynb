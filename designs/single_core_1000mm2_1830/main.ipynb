{
 "cells": [
  {
   "cell_type": "markdown",
   "metadata": {},
   "source": [
    "#### Initialize"
   ]
  },
  {
   "cell_type": "code",
   "execution_count": 1,
   "metadata": {},
   "outputs": [],
   "source": [
    "using Revise\n",
    "using Measurements\n",
    "using Statistics\n",
    "using DataFrames\n",
    "using Plots\n",
    "\n",
    "# Include modules and additional functions\n",
    "includet(\"../../src/LineCableToolbox.jl\")\n",
    "using .LineCableToolbox\n",
    "Revise.track(LineCableToolbox)"
   ]
  },
  {
   "cell_type": "code",
   "execution_count": null,
   "metadata": {},
   "outputs": [],
   "source": [
    "# VS Code / Jupyter string formatting\n",
    "struct PlainString\n",
    "    str::String\n",
    "end\n",
    "\n",
    "Base.show(io::IO, ::MIME\"text/plain\", ps::PlainString) = print(io, ps.str)\n",
    "\n",
    "# Initialize plotlyjs backend\n",
    "plotlyjs()  \n",
    "plot(size=(0,0), [0, 0], [0, 0], seriestype=:scatter, markersize=0, \n",
    "     title=\"\", xlabel=\"x-axis\", ylabel=\"y-axis\", legend=false)"
   ]
  },
  {
   "cell_type": "markdown",
   "metadata": {},
   "source": [
    "#### Materials library"
   ]
  },
  {
   "cell_type": "code",
   "execution_count": null,
   "metadata": {},
   "outputs": [],
   "source": [
    "materials_db = MaterialsLibrary()\n",
    "display_materials_library(materials_db)"
   ]
  },
  {
   "cell_type": "markdown",
   "metadata": {},
   "source": [
    "#### Process measurements with uncertainties"
   ]
  },
  {
   "cell_type": "code",
   "execution_count": null,
   "metadata": {},
   "outputs": [],
   "source": [
    "# Process measurements to obtain the main components dimensions\n",
    "\n",
    "# Core\n",
    "d_wire_nominal = 4.67e-3  \n",
    "d_core_nominal = 38.1e-3\n",
    "m1 = measurement(0.03761, 0.00014)\n",
    "m2 = measurement(0.03776, 0.00014)\n",
    "d_core_meas = mean([m1, m2])\n",
    "d_core_meas = bias_to_uncertain(d_core_nominal, [m1, m2])\n",
    "d_w = bias_to_uncertain(d_wire_nominal, [d_core_meas/9])\n",
    "\n",
    "# Inner semicon\n",
    "m1 = measurement(0.000755, 5.5e-5)\n",
    "m2 = measurement(0.00078, 5.0e-5)\n",
    "t_sc_in = mean([m1, m2])\n",
    "\n",
    "# Main insulation\n",
    "m1 = measurement(0.00825, 0.00014)\n",
    "m2 = measurement(0.00836, 0.00022)\n",
    "\n",
    "t_ins = mean([m1, m2])\n",
    "\n",
    "# Outer semicon\n",
    "m1 = measurement(0.000475, 4.5e-5)\n",
    "m2 = measurement(0.00047, 4.0e-5)\n",
    "t_sc_out = mean([m1, m2])\n",
    "\n",
    "# Total sheath thickness inferred from QA measurements (inner pe_sheath - outer semicon_out) must fit the core wbt + wire screen + copper tape + wbt + aluminum tape\n",
    "m1 = measurement(0.05891,0.00065)-measurement(0.05676, 0.00021)\n",
    "m2 = measurement(0.05902,0.00037)-measurement(0.05721, 0.00023)\n",
    "sheath_thickness_meas = mean([m1, m2])\n",
    "\n",
    "d_wsc_nominal = .94e-3  # nominal wire screen diameter\n",
    "t_cut_nominal = 0.1e-3 # nominal thickness of the copper tape\n",
    "t_wbt_nominal = .3e-3 # nominal thickness of the water blocking tape\n",
    "t_alt_nominal = .15e-3 # nominal thickness of the aluminum tape\n",
    "t_pet_nominal = .05e-3 # nominal thickness of the pe face in the aluminum tape\n",
    "@show  sheath_thickness_nom = t_wbt_nominal + d_wsc_nominal + t_cut_nominal + t_wbt_nominal + t_alt_nominal + t_pet_nominal\n",
    "\n",
    "# Incorporate the difference between nominal and measured into uncertainty\n",
    "@show  sheath_thickness_meas = bias_to_uncertain(sheath_thickness_nom, [m1, m2])\n",
    "\n",
    "# Adjust the nominal dimensions to the measured sheath thickness\n",
    "@show d_ws = d_wsc_nominal * sheath_thickness_meas / sheath_thickness_nom\n",
    "@show t_cut = t_cut_nominal * sheath_thickness_meas / sheath_thickness_nom\n",
    "@show t_wbt = t_wbt_nominal * sheath_thickness_meas / sheath_thickness_nom\n",
    "@show t_alt = t_alt_nominal * sheath_thickness_meas / sheath_thickness_nom\n",
    "@show t_pet = t_pet_nominal * sheath_thickness_meas / sheath_thickness_nom\n",
    "\n",
    "# PE jacket thickness\n",
    "m1 = measurement(0.00328, 0.00028)\n",
    "m2 = measurement(0.0034, 0.00033) \n",
    "@show t_jac = mean([m1, m2])\n",
    ";"
   ]
  },
  {
   "cell_type": "code",
   "execution_count": null,
   "metadata": {},
   "outputs": [],
   "source": [
    "@show (d_ws+t_cut+t_wbt+t_alt+t_pet)\n",
    "@show _percent_error(d_ws)\n",
    "@show _percent_error(sheath_thickness_meas)\n",
    "@show _percent_error(t_cut)\n",
    "@show _percent_error(t_wbt)\n",
    "@show _percent_error(t_alt)\n",
    "\n",
    "# note to future self: differences reduce the deterministic value and increase the absolute uncertainty because **errors add** even in subtraction, causing the error to grow out of proportion\n",
    "@show _percent_error(measurement(0.05891,0.00065))\n",
    "@show _percent_error(measurement(0.05676,0.00021))\n",
    "@show _percent_error(measurement(0.05902,0.00037)-measurement(0.05721, 0.00023))\n",
    ";"
   ]
  },
  {
   "cell_type": "code",
   "execution_count": null,
   "metadata": {},
   "outputs": [],
   "source": [
    "#= Using tolerances defined in  60502-1 © IEC:2004+A1:2009 (p. 27)\n",
    "16.7.3 Requirements\n",
    "The dimensions of armour wires and tapes shall not fall below the nominal values given in 12.5 # by more than:\n",
    "– 5 % for round wires;\n",
    "– 8 % for flat wires;\n",
    "– 10 % for tapes. =#\n",
    "# @show d_ws = percent_to_uncertain(d_wsc_nominal,5)\n",
    "# @show t_cut = percent_to_uncertain(t_cut_nominal,10)\n",
    "# @show t_alt = percent_to_uncertain(t_alt_nominal, 10)\n",
    "# @show t_wbt = percent_to_uncertain(t_wbt_nominal,20)\n",
    "# @show t_pet = percent_to_uncertain(t_pet_nominal, 20)"
   ]
  },
  {
   "cell_type": "markdown",
   "metadata": {},
   "source": [
    "#### Cable core"
   ]
  },
  {
   "cell_type": "code",
   "execution_count": null,
   "metadata": {},
   "outputs": [],
   "source": [
    "# Stranded conductor core\n",
    "material = get_material(materials_db, \"aluminum\")\n",
    "core = Conductor(WireArray(0, @diam(d_w), 1, 0, material))\n",
    "add_conductor_part!(core, WireArray, @diam(d_w), 6, 15, material)\n",
    "add_conductor_part!(core, WireArray, @diam(d_w), 12, 13.5, material)\n",
    "add_conductor_part!(core, WireArray, @diam(d_w), 18, 12.5, material)\n",
    "add_conductor_part!(core, WireArray, @diam(d_w), 24, 11, material)\n",
    "\n",
    "# Inner semiconductive tape (optional)\n",
    "\n",
    "\n",
    "# Inner semiconductor\n",
    "material = get_material(materials_db, \"semicon1\")\n",
    "semicon_in = Semicon(core, @thick(t_sc_in), material)\n",
    "\n",
    "# Main insulation\n",
    "material = get_material(materials_db, \"xlpe\")\n",
    "main_insu = Insulator(semicon_in, @thick(t_ins), material)\n",
    "\n",
    "# Outer semiconductor\n",
    "material = get_material(materials_db, \"semicon2\")\n",
    "semicon_out = Semicon(main_insu, @thick(t_sc_out), material)\n",
    "\n",
    "# Core semiconductive tape\n",
    "material = get_material(materials_db, \"polyacrylate\")\n",
    "wb_tape_co = Semicon(semicon_out, @thick(t_wbt), material)\n",
    "\n",
    "core_parts = [core, semicon_in, main_insu, semicon_out, wb_tape_co]\n",
    "\n",
    "# Initialize CableDesign with the first component\n",
    "datasheet_info = NominalData(\n",
    "    conductor_cross_section = 1000.0,   # [mm²]\n",
    "    screen_cross_section = 35.0,        # [mm²]\n",
    "    resistance = 0.0291,                # [Ω/km]\n",
    "    capacitance = 0.39,                 # [μF/km]\n",
    "    inductance = 0.3                    # [mH/km]\n",
    ")\n",
    "\n",
    "cable_design = CableDesign(\"NA2XS(FL)2Y 18/30\", \"core\", core_parts, nominal_data = datasheet_info)"
   ]
  },
  {
   "cell_type": "markdown",
   "metadata": {},
   "source": [
    "#### Wire screens"
   ]
  },
  {
   "cell_type": "code",
   "execution_count": null,
   "metadata": {},
   "outputs": [],
   "source": [
    "num_wires = 49\n",
    "lay_ratio = 10\n",
    "w_cut = 10e-3 # width of copper tape\n",
    "\n",
    "# Continue building on top of wb_tape_co\n",
    "material = get_material(materials_db, \"copper\")\n",
    "wire_screen = Conductor(WireArray(wb_tape_co, @diam(d_ws), num_wires, lay_ratio, material))\n",
    "add_conductor_part!(wire_screen, Strip, @thick(t_cut), w_cut, lay_ratio, material)\n",
    "@show wire_screen.resistance\n",
    "@show _percent_error(wire_screen.resistance)\n",
    "\n",
    "# Water blocking tape\n",
    "material = get_material(materials_db, \"polyacrylate\")\n",
    "wb_tape_scr = Semicon(wire_screen, @thick(t_wbt), material)\n",
    "\n",
    "sheath_parts = [wire_screen, wb_tape_scr]\n",
    "add_cable_component!(cable_design, \"sheath\", sheath_parts)\n",
    ";"
   ]
  },
  {
   "cell_type": "markdown",
   "metadata": {},
   "source": [
    "#### PE Jacket"
   ]
  },
  {
   "cell_type": "code",
   "execution_count": null,
   "metadata": {},
   "outputs": [],
   "source": [
    "# Continue building on top of wb_tape_scr\n",
    "material = get_material(materials_db, \"aluminum\")\n",
    "alu_tape = Conductor(Tubular(wb_tape_scr,  @thick(t_alt), material))\n",
    "\n",
    "# PE layer after aluminum foil \n",
    "material = get_material(materials_db, \"pe\")\n",
    "alu_tape_pe = Insulator(alu_tape, @thick(t_pet_nominal), material)\n",
    "\n",
    "# PE jacket\n",
    "material = get_material(materials_db, \"xlpe\")\n",
    "pe_insu = Insulator(alu_tape_pe, @thick(t_jac), material)\n",
    "\n",
    "jacket_parts = [alu_tape, alu_tape_pe, pe_insu]\n",
    "add_cable_component!(cable_design, \"jacket\", jacket_parts)\n",
    ";"
   ]
  },
  {
   "cell_type": "markdown",
   "metadata": {},
   "source": [
    "#### Preview"
   ]
  },
  {
   "cell_type": "code",
   "execution_count": null,
   "metadata": {},
   "outputs": [],
   "source": [
    "display(PlainString(\"- Comparison with datasheet information:\"))\n",
    "display(core_parameters(cable_design))\n",
    "\n",
    "display(PlainString(\"- EMT parameters:\"))\n",
    "display(cable_data(cable_design))\n",
    "\n",
    "display(PlainString(\"- Detailed description of cable parts:\"))\n",
    "display(cable_parts_data(cable_design))\n",
    "\n",
    "preview_cable_cross_section(cable_design)"
   ]
  },
  {
   "cell_type": "markdown",
   "metadata": {},
   "source": [
    "#### Save to cables library"
   ]
  },
  {
   "cell_type": "code",
   "execution_count": null,
   "metadata": {},
   "outputs": [],
   "source": [
    "library = CablesLibrary()\n",
    "display_cables_library(library)\n",
    "add_cable_design!(library, cable_design)\n",
    "save_cables_library(library)"
   ]
  },
  {
   "cell_type": "markdown",
   "metadata": {},
   "source": [
    "#### Frequency-dependent earth model"
   ]
  },
  {
   "cell_type": "code",
   "execution_count": null,
   "metadata": {},
   "outputs": [
    {
     "data": {
      "text/plain": [
       "EarthModel(3, ConstantProperties(\"CP model\"), EnforceLayer(-1, \"Bottom layer\"), false, EarthLayer[EarthLayer(Inf, 1.0, 1.0, Inf, Number[Inf, Inf, Inf, Inf, Inf, Inf, Inf, Inf, Inf, Inf], Number[8.8541878128e-12, 8.8541878128e-12, 8.8541878128e-12, 8.8541878128e-12, 8.8541878128e-12, 8.8541878128e-12, 8.8541878128e-12, 8.8541878128e-12, 8.8541878128e-12, 8.8541878128e-12], Number[1.2566370614359173e-6, 1.2566370614359173e-6, 1.2566370614359173e-6, 1.2566370614359173e-6, 1.2566370614359173e-6, 1.2566370614359173e-6, 1.2566370614359173e-6, 1.2566370614359173e-6, 1.2566370614359173e-6, 1.2566370614359173e-6]), EarthLayer(100, 10, 1, 5, Number[100, 100, 100, 100, 100, 100, 100, 100, 100, 100], Number[8.8541878128e-11, 8.8541878128e-11, 8.8541878128e-11, 8.8541878128e-11, 8.8541878128e-11, 8.8541878128e-11, 8.8541878128e-11, 8.8541878128e-11, 8.8541878128e-11, 8.8541878128e-11], Number[1.2566370614359173e-6, 1.2566370614359173e-6, 1.2566370614359173e-6, 1.2566370614359173e-6, 1.2566370614359173e-6, 1.2566370614359173e-6, 1.2566370614359173e-6, 1.2566370614359173e-6, 1.2566370614359173e-6, 1.2566370614359173e-6]), EarthLayer(200, 15, 1, Inf, Number[200, 200, 200, 200, 200, 200, 200, 200, 200, 200], Number[1.3281281719200002e-10, 1.3281281719200002e-10, 1.3281281719200002e-10, 1.3281281719200002e-10, 1.3281281719200002e-10, 1.3281281719200002e-10, 1.3281281719200002e-10, 1.3281281719200002e-10, 1.3281281719200002e-10, 1.3281281719200002e-10], Number[1.2566370614359173e-6, 1.2566370614359173e-6, 1.2566370614359173e-6, 1.2566370614359173e-6, 1.2566370614359173e-6, 1.2566370614359173e-6, 1.2566370614359173e-6, 1.2566370614359173e-6, 1.2566370614359173e-6, 1.2566370614359173e-6])], Number[1.0, 4.641588833612778, 21.544346900318832, 100.0, 464.15888336127773, 2154.4346900318847, 10000.0, 46415.88833612782, 215443.46900318822, 1.0e6], Number[200, 200, 200, 200, 200, 200, 200, 200, 200, 200], Number[1.3281281719200002e-10, 1.3281281719200002e-10, 1.3281281719200002e-10, 1.3281281719200002e-10, 1.3281281719200002e-10, 1.3281281719200002e-10, 1.3281281719200002e-10, 1.3281281719200002e-10, 1.3281281719200002e-10, 1.3281281719200002e-10], Number[1.2566370614359173e-6, 1.2566370614359173e-6, 1.2566370614359173e-6, 1.2566370614359173e-6, 1.2566370614359173e-6, 1.2566370614359173e-6, 1.2566370614359173e-6, 1.2566370614359173e-6, 1.2566370614359173e-6, 1.2566370614359173e-6])"
      ]
     },
     "metadata": {},
     "output_type": "display_data"
    }
   ],
   "source": [
    "f = 10.0 .^ range(0, stop=6, length=10)\n",
    "earth_params = EarthModel(f, 100, 10, 1)\n",
    "# earth_params.EHEMformulation=EnforceLayer(-1)\n",
    "# add_earth_layer!(earth_params, 200, 15, 1, t=Inf)\n",
    "earth_params"
   ]
  }
 ],
 "metadata": {
  "kernelspec": {
   "display_name": "Julia 1.11.1",
   "language": "julia",
   "name": "julia-1.11"
  },
  "language_info": {
   "file_extension": ".jl",
   "mimetype": "application/julia",
   "name": "julia",
   "version": "1.11.1"
  }
 },
 "nbformat": 4,
 "nbformat_minor": 2
}
