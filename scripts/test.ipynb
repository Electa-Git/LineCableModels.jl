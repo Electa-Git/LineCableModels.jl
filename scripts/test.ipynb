{
 "cells": [
  {
   "cell_type": "code",
   "execution_count": 1,
   "metadata": {},
   "outputs": [],
   "source": [
    "push!(LOAD_PATH, joinpath(@__DIR__, \"..\", \"src\")) # hide\n",
    "using Revise\n",
    "using DataFrames\n",
    "using LineCableModels"
   ]
  },
  {
   "cell_type": "code",
   "execution_count": 2,
   "metadata": {},
   "outputs": [
    {
     "name": "stdout",
     "output_type": "stream",
     "text": [
      "No materials_library.csv found. Initializing default materials database...\n"
     ]
    },
    {
     "data": {
      "text/html": [
       "<div><div style = \"float: left;\"><span>9×6 DataFrame</span></div><div style = \"clear: both;\"></div></div><div class = \"data-frame\" style = \"overflow-x: scroll;\"><table class = \"data-frame\" style = \"margin-bottom: 6px;\"><thead><tr class = \"header\"><th class = \"rowNumber\" style = \"font-weight: bold; text-align: right;\">Row</th><th style = \"text-align: left;\">name</th><th style = \"text-align: left;\">rho</th><th style = \"text-align: left;\">eps_r</th><th style = \"text-align: left;\">mu_r</th><th style = \"text-align: left;\">T0</th><th style = \"text-align: left;\">alpha</th></tr><tr class = \"subheader headerLastRow\"><th class = \"rowNumber\" style = \"font-weight: bold; text-align: right;\"></th><th title = \"String\" style = \"text-align: left;\">String</th><th title = \"Float64\" style = \"text-align: left;\">Float64</th><th title = \"Float64\" style = \"text-align: left;\">Float64</th><th title = \"Float64\" style = \"text-align: left;\">Float64</th><th title = \"Float64\" style = \"text-align: left;\">Float64</th><th title = \"Float64\" style = \"text-align: left;\">Float64</th></tr></thead><tbody><tr><td class = \"rowNumber\" style = \"font-weight: bold; text-align: right;\">1</td><td style = \"text-align: left;\">pe</td><td style = \"text-align: right;\">1.97e14</td><td style = \"text-align: right;\">2.3</td><td style = \"text-align: right;\">1.0</td><td style = \"text-align: right;\">20.0</td><td style = \"text-align: right;\">0.0</td></tr><tr><td class = \"rowNumber\" style = \"font-weight: bold; text-align: right;\">2</td><td style = \"text-align: left;\">polyacrylate</td><td style = \"text-align: right;\">5300.0</td><td style = \"text-align: right;\">32.3</td><td style = \"text-align: right;\">1.0</td><td style = \"text-align: right;\">20.0</td><td style = \"text-align: right;\">0.0</td></tr><tr><td class = \"rowNumber\" style = \"font-weight: bold; text-align: right;\">3</td><td style = \"text-align: left;\">semicon1</td><td style = \"text-align: right;\">1000.0</td><td style = \"text-align: right;\">1000.0</td><td style = \"text-align: right;\">1.0</td><td style = \"text-align: right;\">20.0</td><td style = \"text-align: right;\">0.0</td></tr><tr><td class = \"rowNumber\" style = \"font-weight: bold; text-align: right;\">4</td><td style = \"text-align: left;\">copper</td><td style = \"text-align: right;\">1.7241e-8</td><td style = \"text-align: right;\">1.0</td><td style = \"text-align: right;\">0.999994</td><td style = \"text-align: right;\">20.0</td><td style = \"text-align: right;\">0.00393</td></tr><tr><td class = \"rowNumber\" style = \"font-weight: bold; text-align: right;\">5</td><td style = \"text-align: left;\">xlpe</td><td style = \"text-align: right;\">1.97e14</td><td style = \"text-align: right;\">2.5</td><td style = \"text-align: right;\">1.0</td><td style = \"text-align: right;\">20.0</td><td style = \"text-align: right;\">0.0</td></tr><tr><td class = \"rowNumber\" style = \"font-weight: bold; text-align: right;\">6</td><td style = \"text-align: left;\">pec</td><td style = \"text-align: right;\">2.22045e-16</td><td style = \"text-align: right;\">1.0</td><td style = \"text-align: right;\">1.0</td><td style = \"text-align: right;\">20.0</td><td style = \"text-align: right;\">0.0</td></tr><tr><td class = \"rowNumber\" style = \"font-weight: bold; text-align: right;\">7</td><td style = \"text-align: left;\">air</td><td style = \"text-align: right;\">Inf</td><td style = \"text-align: right;\">1.0</td><td style = \"text-align: right;\">1.0</td><td style = \"text-align: right;\">20.0</td><td style = \"text-align: right;\">0.0</td></tr><tr><td class = \"rowNumber\" style = \"font-weight: bold; text-align: right;\">8</td><td style = \"text-align: left;\">semicon2</td><td style = \"text-align: right;\">500.0</td><td style = \"text-align: right;\">1000.0</td><td style = \"text-align: right;\">1.0</td><td style = \"text-align: right;\">20.0</td><td style = \"text-align: right;\">0.0</td></tr><tr><td class = \"rowNumber\" style = \"font-weight: bold; text-align: right;\">9</td><td style = \"text-align: left;\">aluminum</td><td style = \"text-align: right;\">2.8264e-8</td><td style = \"text-align: right;\">1.0</td><td style = \"text-align: right;\">1.00002</td><td style = \"text-align: right;\">20.0</td><td style = \"text-align: right;\">0.00429</td></tr></tbody></table></div>"
      ],
      "text/latex": [
       "\\begin{tabular}{r|cccccc}\n",
       "\t& name & rho & eps\\_r & mu\\_r & T0 & alpha\\\\\n",
       "\t\\hline\n",
       "\t& String & Float64 & Float64 & Float64 & Float64 & Float64\\\\\n",
       "\t\\hline\n",
       "\t1 & pe & 1.97e14 & 2.3 & 1.0 & 20.0 & 0.0 \\\\\n",
       "\t2 & polyacrylate & 5300.0 & 32.3 & 1.0 & 20.0 & 0.0 \\\\\n",
       "\t3 & semicon1 & 1000.0 & 1000.0 & 1.0 & 20.0 & 0.0 \\\\\n",
       "\t4 & copper & 1.7241e-8 & 1.0 & 0.999994 & 20.0 & 0.00393 \\\\\n",
       "\t5 & xlpe & 1.97e14 & 2.5 & 1.0 & 20.0 & 0.0 \\\\\n",
       "\t6 & pec & 2.22045e-16 & 1.0 & 1.0 & 20.0 & 0.0 \\\\\n",
       "\t7 & air & Inf & 1.0 & 1.0 & 20.0 & 0.0 \\\\\n",
       "\t8 & semicon2 & 500.0 & 1000.0 & 1.0 & 20.0 & 0.0 \\\\\n",
       "\t9 & aluminum & 2.8264e-8 & 1.0 & 1.00002 & 20.0 & 0.00429 \\\\\n",
       "\\end{tabular}\n"
      ],
      "text/plain": [
       "\u001b[1m9×6 DataFrame\u001b[0m\n",
       "\u001b[1m Row \u001b[0m│\u001b[1m name         \u001b[0m\u001b[1m rho            \u001b[0m\u001b[1m eps_r   \u001b[0m\u001b[1m mu_r     \u001b[0m\u001b[1m T0      \u001b[0m\u001b[1m alpha   \u001b[0m\n",
       "     │\u001b[90m String       \u001b[0m\u001b[90m Float64        \u001b[0m\u001b[90m Float64 \u001b[0m\u001b[90m Float64  \u001b[0m\u001b[90m Float64 \u001b[0m\u001b[90m Float64 \u001b[0m\n",
       "─────┼───────────────────────────────────────────────────────────────────\n",
       "   1 │ pe               1.97e14          2.3  1.0          20.0  0.0\n",
       "   2 │ polyacrylate  5300.0             32.3  1.0          20.0  0.0\n",
       "   3 │ semicon1      1000.0           1000.0  1.0          20.0  0.0\n",
       "   4 │ copper           1.7241e-8        1.0  0.999994     20.0  0.00393\n",
       "   5 │ xlpe             1.97e14          2.5  1.0          20.0  0.0\n",
       "   6 │ pec              2.22045e-16      1.0  1.0          20.0  0.0\n",
       "   7 │ air            Inf                1.0  1.0          20.0  0.0\n",
       "   8 │ semicon2       500.0           1000.0  1.0          20.0  0.0\n",
       "   9 │ aluminum         2.8264e-8        1.0  1.00002      20.0  0.00429"
      ]
     },
     "metadata": {},
     "output_type": "display_data"
    }
   ],
   "source": [
    "materials_db = MaterialsLibrary()\n",
    "list_materialslibrary(materials_db)"
   ]
  },
  {
   "cell_type": "code",
   "execution_count": 3,
   "metadata": {},
   "outputs": [
    {
     "data": {
      "text/plain": [
       "0.0024"
      ]
     },
     "metadata": {},
     "output_type": "display_data"
    }
   ],
   "source": [
    "num_co_wires = 61  # number of core wires\n",
    "num_sc_wires = 49  # number of screen wires\n",
    "d_core = 38.1e-3   # nominal core overall diameter\n",
    "d_w = 4.7e-3       # nominal strand diameter of the core\n",
    "t_sc_in = 0.6e-3   # nominal internal semicon thickness\n",
    "t_ins = 8e-3       # nominal main insulation thickness\n",
    "t_sc_out = 0.3e-3  # nominal external semicon thickness\n",
    "d_ws = .95e-3      # nominal wire screen diameter\n",
    "t_cut = 0.1e-3     # nominal thickness of the copper tape (around wire screens)\n",
    "w_cut = 10e-3      # nominal width of copper tape\n",
    "t_wbt = .3e-3      # nominal thickness of the water blocking tape\n",
    "t_sct = .3e-3      # nominal thickness of the semiconductive tape\n",
    "t_alt = .15e-3     # nominal thickness of the aluminum tape\n",
    "t_pet = .05e-3     # nominal thickness of the pe face in the aluminum tape\n",
    "t_jac = 2.4e-3     # nominal PE jacket thickness"
   ]
  },
  {
   "cell_type": "code",
   "execution_count": 4,
   "metadata": {},
   "outputs": [
    {
     "data": {
      "text/plain": [
       "ConductorGroup: [radius_in=0.0, radius_ext=0.00235, cross_section=1.735e-5, resistance=0.001629, gmr=0.00183]\n"
      ]
     },
     "metadata": {},
     "output_type": "display_data"
    }
   ],
   "source": [
    "material = get_material(materials_db, \"aluminum\")\n",
    "core = ConductorGroup(WireArray(0, Diameter(d_w), 1, 0, material))"
   ]
  },
  {
   "cell_type": "code",
   "execution_count": 5,
   "metadata": {},
   "outputs": [
    {
     "name": "stdout",
     "output_type": "stream",
     "text": [
      "(core.layers[i]).num_wires = 1\n",
      "(core.layers[i]).pitch_length = 0.0\n"
     ]
    },
    {
     "data": {
      "text/plain": [
       "2"
      ]
     },
     "metadata": {},
     "output_type": "display_data"
    }
   ],
   "source": [
    "i=1\n",
    "@show core.layers[i].num_wires\n",
    "@show core.layers[i].pitch_length\n",
    "i+=1"
   ]
  },
  {
   "cell_type": "code",
   "execution_count": 6,
   "metadata": {},
   "outputs": [
    {
     "data": {
      "text/plain": [
       "ConductorGroup: [radius_in=0.0, radius_ext=0.02115, cross_section=0.001058, resistance=2.757e-5, gmr=0.01633]\n"
      ]
     },
     "metadata": {},
     "output_type": "display_data"
    }
   ],
   "source": [
    "addto_conductorgroup!(core, WireArray, Diameter(d_w), 6, 15, material)\n",
    "addto_conductorgroup!(core, WireArray, Diameter(d_w), 12, 13.5, material)\n",
    "addto_conductorgroup!(core, WireArray, Diameter(d_w), 18, 12.5, material)\n",
    "addto_conductorgroup!(core, WireArray, Diameter(d_w), 24, 11, material)"
   ]
  },
  {
   "cell_type": "code",
   "execution_count": 7,
   "metadata": {},
   "outputs": [
    {
     "name": "stdout",
     "output_type": "stream",
     "text": [
      "(core.layers[i]).num_wires = 6\n",
      "(core.layers[i]).pitch_length = 0.14100000000000004\n",
      "(core.layers[i]).num_wires = 12\n",
      "(core.layers[i]).pitch_length = 0.2538\n",
      "(core.layers[i]).num_wires = 18\n",
      "(core.layers[i]).pitch_length = 0.3525\n",
      "(core.layers[i]).num_wires = 24\n",
      "(core.layers[i]).pitch_length = 0.41359999999999997\n"
     ]
    },
    {
     "data": {
      "text/plain": [
       "6"
      ]
     },
     "metadata": {},
     "output_type": "display_data"
    }
   ],
   "source": [
    "@show core.layers[i].num_wires\n",
    "@show core.layers[i].pitch_length\n",
    "i+=1\n",
    "@show core.layers[i].num_wires\n",
    "@show core.layers[i].pitch_length\n",
    "i+=1\n",
    "@show core.layers[i].num_wires\n",
    "@show core.layers[i].pitch_length\n",
    "i+=1\n",
    "@show core.layers[i].num_wires\n",
    "@show core.layers[i].pitch_length\n",
    "i+=1"
   ]
  },
  {
   "cell_type": "code",
   "execution_count": 12,
   "metadata": {},
   "outputs": [
    {
     "data": {
      "text/plain": [
       "3.26107253208753"
      ]
     },
     "metadata": {},
     "output_type": "display_data"
    }
   ],
   "source": [
    "weighted_sum = 0.0\n",
    "total_wires = 0\n",
    "\n",
    "for layer in core.layers\n",
    "    if layer.pitch_length != 0\n",
    "        weighted_sum += layer.num_wires / layer.pitch_length\n",
    "    end\n",
    "    total_wires += layer.num_wires\n",
    "end\n",
    "\n",
    "weighted_avg = weighted_sum / total_wires"
   ]
  },
  {
   "cell_type": "code",
   "execution_count": 13,
   "metadata": {},
   "outputs": [
    {
     "data": {
      "text/plain": [
       "24"
      ]
     },
     "metadata": {},
     "output_type": "display_data"
    }
   ],
   "source": [
    "core.layers[5].num_wires "
   ]
  },
  {
   "cell_type": "code",
   "execution_count": 14,
   "metadata": {},
   "outputs": [
    {
     "data": {
      "text/plain": [
       "0.41359999999999997"
      ]
     },
     "metadata": {},
     "output_type": "display_data"
    }
   ],
   "source": [
    "core.layers[5].pitch_length "
   ]
  },
  {
   "cell_type": "code",
   "execution_count": 17,
   "metadata": {},
   "outputs": [
    {
     "data": {
      "text/plain": [
       "2.4177949709864603"
      ]
     },
     "metadata": {},
     "output_type": "display_data"
    }
   ],
   "source": [
    "1/core.layers[end].pitch_length "
   ]
  }
 ],
 "metadata": {
  "kernelspec": {
   "display_name": "Julia 1.11.1",
   "language": "julia",
   "name": "julia-1.11"
  },
  "language_info": {
   "file_extension": ".jl",
   "mimetype": "application/julia",
   "name": "julia",
   "version": "1.11.1"
  }
 },
 "nbformat": 4,
 "nbformat_minor": 2
}
