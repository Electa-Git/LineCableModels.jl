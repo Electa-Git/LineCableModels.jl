{
 "cells": [
  {
   "cell_type": "code",
   "execution_count": null,
   "id": "bff45daf",
   "metadata": {},
   "outputs": [],
   "source": [
    "using Conda\n",
    "Conda.add_channel(\"conda-forge\")\n",
    "Conda.add(\"rise\")"
   ]
  },
  {
   "cell_type": "code",
   "execution_count": null,
   "id": "5235c5fe",
   "metadata": {},
   "outputs": [],
   "source": [
    "using Interact\n",
    "@bind x Slider(1:10)"
   ]
  }
 ],
 "metadata": {
  "language_info": {
   "name": "python"
  }
 },
 "nbformat": 4,
 "nbformat_minor": 5
}
