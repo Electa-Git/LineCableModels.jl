{
 "cells": [
  {
   "cell_type": "code",
   "execution_count": null,
   "id": "5235c5fe",
   "metadata": {},
   "outputs": [],
   "source": [
    "using Interact\n",
    "@bind x Slider(1:10)"
   ]
  }
 ],
 "metadata": {
  "kernelspec": {
   "display_name": "Julia 1.11.6",
   "language": "julia",
   "name": "julia-1.11"
  },
  "language_info": {
   "file_extension": ".jl",
   "mimetype": "application/julia",
   "name": "julia",
   "version": "1.11.6"
  }
 },
 "nbformat": 4,
 "nbformat_minor": 5
}
